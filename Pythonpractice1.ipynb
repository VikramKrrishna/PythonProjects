{
 "cells": [
  {
   "cell_type": "markdown",
   "id": "c3ee5c0d",
   "metadata": {},
   "source": [
    "# 1.Python program to reverse a number with explanation"
   ]
  },
  {
   "cell_type": "code",
   "execution_count": 1,
   "id": "9d8a165b",
   "metadata": {},
   "outputs": [
    {
     "name": "stdout",
     "output_type": "stream",
     "text": [
      "Enter any Number: 12345\n",
      "Number before reverse is  12345\n",
      "Number After reverse is  54321\n"
     ]
    }
   ],
   "source": [
    "num = int(input(\"Enter any Number: \"))\n",
    "print(\"Number before reverse is \",num)\n",
    "reverse = 0\n",
    "while num!=0:\n",
    "    reverse = reverse*10 + num%10\n",
    "    num=num//10\n",
    "print(\"Number After reverse is \",reverse)\n",
    "    "
   ]
  },
  {
   "cell_type": "markdown",
   "id": "331ae229",
   "metadata": {},
   "source": [
    "# 2. Write a program in Python to check whether an integer is Armstrong number or not."
   ]
  },
  {
   "cell_type": "code",
   "execution_count": 2,
   "id": "7f526644",
   "metadata": {},
   "outputs": [
    {
     "name": "stdout",
     "output_type": "stream",
     "text": [
      "Enter any Number: 1634\n",
      "Number is Armstrong number\n"
     ]
    }
   ],
   "source": [
    "num = int(input(\"Enter any Number: \"))\n",
    "#num = 1634,153\n",
    "\n",
    "# Change num variable to string and calculated the length (number of digits)\n",
    "order = len(str(num))\n",
    "sum = 0\n",
    "\n",
    "# find the sum of the cube of each digit\n",
    "temp = num\n",
    "while temp>0:\n",
    "    digit = temp%10\n",
    "    sum += digit**order\n",
    "    temp //= 10\n",
    "    \n",
    "# Compare numbers\n",
    "if num == sum:\n",
    "    print(\"Number is Armstrong number\")\n",
    "else:\n",
    "    print(\"Number is not Armstrong number \")"
   ]
  },
  {
   "cell_type": "markdown",
   "id": "c350387a",
   "metadata": {},
   "source": [
    "# 3.Write a program in Python to check given number is prime or not."
   ]
  },
  {
   "cell_type": "code",
   "execution_count": 16,
   "id": "0ea2ab22",
   "metadata": {},
   "outputs": [
    {
     "name": "stdout",
     "output_type": "stream",
     "text": [
      "Enter any Number: 101\n",
      "Number is Prime number\n"
     ]
    }
   ],
   "source": [
    "num =int(input(\"Enter any Number: \"))\n",
    "\n",
    "if num == 1:\n",
    "       print(\"Number is not Prime number\")\n",
    "elif num>1:    \n",
    "    for i in range(2,num):\n",
    "        if num%i == 0:\n",
    "            print(\"Number is not Prime number\")\n",
    "            break\n",
    "    else:\n",
    "        print(\"Number is Prime number\")\n",
    "else:\n",
    "    print(\"Number is not Prime number\")\n",
    "    "
   ]
  },
  {
   "cell_type": "markdown",
   "id": "ce1cdebc",
   "metadata": {},
   "source": [
    "# 4.Write a program in Python to print the Fibonacci series using iterative method."
   ]
  },
  {
   "cell_type": "code",
   "execution_count": null,
   "id": "4549ced6",
   "metadata": {},
   "outputs": [],
   "source": []
  }
 ],
 "metadata": {
  "kernelspec": {
   "display_name": "Python 3",
   "language": "python",
   "name": "python3"
  },
  "language_info": {
   "codemirror_mode": {
    "name": "ipython",
    "version": 3
   },
   "file_extension": ".py",
   "mimetype": "text/x-python",
   "name": "python",
   "nbconvert_exporter": "python",
   "pygments_lexer": "ipython3",
   "version": "3.8.8"
  }
 },
 "nbformat": 4,
 "nbformat_minor": 5
}
