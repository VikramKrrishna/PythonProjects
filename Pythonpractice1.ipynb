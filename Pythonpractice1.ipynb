{
 "cells": [
  {
   "cell_type": "markdown",
   "id": "c3ee5c0d",
   "metadata": {},
   "source": [
    "# 1.Python program to reverse a number with explanation"
   ]
  },
  {
   "cell_type": "code",
   "execution_count": 11,
   "id": "9d8a165b",
   "metadata": {},
   "outputs": [
    {
     "name": "stdout",
     "output_type": "stream",
     "text": [
      "Enter any Number: 12345\n",
      "Number before reverse is  12345\n",
      "Number After reverse is  54321\n"
     ]
    }
   ],
   "source": [
    "num = int(input(\"Enter any Number: \"))\n",
    "print(\"Number before reverse is \",num)\n",
    "reverse = 0\n",
    "while num!=0:\n",
    "    reverse = reverse*10 + num%10\n",
    "    num=num//10\n",
    "print(\"Number After reverse is \",reverse)\n",
    "    "
   ]
  },
  {
   "cell_type": "markdown",
   "id": "35cc325c",
   "metadata": {},
   "source": [
    "# 2. Write a program in Python to check whether an integer is Armstrong number or not."
   ]
  },
  {
   "cell_type": "code",
   "execution_count": null,
   "id": "7f526644",
   "metadata": {},
   "outputs": [],
   "source": [
    "num = int(input(\"Enter any Number: \"))\n",
    "Armstrong = 0\n",
    "while num!=0:\n",
    "    Amstrong = Amstrong//10"
   ]
  },
  {
   "cell_type": "code",
   "execution_count": null,
   "id": "c5845399",
   "metadata": {},
   "outputs": [],
   "source": []
  }
 ],
 "metadata": {
  "kernelspec": {
   "display_name": "Python 3",
   "language": "python",
   "name": "python3"
  },
  "language_info": {
   "codemirror_mode": {
    "name": "ipython",
    "version": 3
   },
   "file_extension": ".py",
   "mimetype": "text/x-python",
   "name": "python",
   "nbconvert_exporter": "python",
   "pygments_lexer": "ipython3",
   "version": "3.8.8"
  }
 },
 "nbformat": 4,
 "nbformat_minor": 5
}
